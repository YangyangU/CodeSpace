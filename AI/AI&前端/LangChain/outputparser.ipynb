{
 "cells": [
  {
   "cell_type": "code",
   "execution_count": 20,
   "metadata": {},
   "outputs": [
    {
     "data": {
      "text/plain": [
       "{ OPENAI_API_KEY: \u001b[32m\"sk-0b02bc9ff59c4a07af38ca1fa1999577\"\u001b[39m }"
      ]
     },
     "execution_count": 20,
     "metadata": {},
     "output_type": "execute_result"
    }
   ],
   "source": [
    "import { load } from \"dotenv\";\n",
    "const env = await load();\n",
    "const process = {\n",
    "  env,\n",
    "};\n",
    "process.env;"
   ]
  },
  {
   "cell_type": "code",
   "execution_count": 21,
   "metadata": {},
   "outputs": [],
   "source": [
    "import { ChatOpenAI } from \"@langchain/openai\";\n",
    "const model = new ChatOpenAI({\n",
    "    modelName: \"deepseek-chat\",\n",
    "    configuration: {\n",
    "        baseURL: \"https://api.deepseek.com/v1\",\n",
    "    }\n",
    "});"
   ]
  },
  {
   "cell_type": "code",
   "execution_count": 22,
   "metadata": {},
   "outputs": [
    {
     "data": {
      "text/plain": [
       "\u001b[32m\"Sure! Here's a joke for you:\\n\"\u001b[39m +\n",
       "  \u001b[32m\"\\n\"\u001b[39m +\n",
       "  \u001b[32m\"Why don’t skeletons fight each other?  \\n\"\u001b[39m +\n",
       "  \u001b[32m\"Because they don’t have the guts! 😄\"\u001b[39m"
      ]
     },
     "execution_count": 22,
     "metadata": {},
     "output_type": "execute_result"
    }
   ],
   "source": [
    "import { HumanMessage } from \"@langchain/core/messages\";\n",
    "import { StringOutputParser } from \"@langchain/core/output_parsers\";\n",
    "\n",
    "const parser = new StringOutputParser();\n",
    "\n",
    "const chain = model.pipe(parser);\n",
    "\n",
    "await chain.invoke([new HumanMessage(\"Tell me a joke\")]);\n"
   ]
  },
  {
   "cell_type": "code",
   "execution_count": 23,
   "metadata": {},
   "outputs": [
    {
     "data": {
      "text/plain": [
       "{\n",
       "  answer: \u001b[32m\"蒙娜丽莎的作者是列奥纳多·达·芬奇，绘制时间大约在1503年至1506年之间。\"\u001b[39m,\n",
       "  evidence: \u001b[32m\"蒙娜丽莎是世界上最著名的肖像画之一，由意大利文艺复兴时期的艺术家列奥纳多·达·芬奇创作。根据历史记录和艺术史研究，达·芬奇在1503年开始绘制这幅画，并在1506年左右完成。\"\u001b[39m,\n",
       "  confidence: \u001b[32m\"95%\"\u001b[39m\n",
       "}"
      ]
     },
     "execution_count": 23,
     "metadata": {},
     "output_type": "execute_result"
    }
   ],
   "source": [
    "import { StructuredOutputParser } from \"langchain/output_parsers\";\n",
    "import { PromptTemplate } from \"@langchain/core/prompts\";\n",
    "\n",
    "const parser2 = StructuredOutputParser.fromNamesAndDescriptions({\n",
    "  answer: \"用户问题的答案\",\n",
    "  evidence: \"你回答用户问题所依据的答案\",\n",
    "  confidence: \"问题答案的可信度评分，格式是百分数\",\n",
    "});\n",
    "\n",
    "const prompt = PromptTemplate.fromTemplate(\"尽可能的回答用的问题 \\n{instructions} \\n{question}\")\n",
    "const chain2 = prompt.pipe(model).pipe(parser2)\n",
    "await chain2.invoke({\n",
    "    question: \"蒙娜丽莎的作者是谁？是什么时候绘制的\",\n",
    "    instructions: parser2.getFormatInstructions()\n",
    "})"
   ]
  }
 ],
 "metadata": {
  "kernelspec": {
   "display_name": "Deno",
   "language": "typescript",
   "name": "deno"
  },
  "language_info": {
   "codemirror_mode": "typescript",
   "file_extension": ".ts",
   "mimetype": "text/x.typescript",
   "name": "typescript",
   "nbconvert_exporter": "script",
   "pygments_lexer": "typescript",
   "version": "5.6.2"
  }
 },
 "nbformat": 4,
 "nbformat_minor": 2
}
