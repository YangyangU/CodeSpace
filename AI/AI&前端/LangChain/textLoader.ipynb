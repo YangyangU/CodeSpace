{
 "cells": [
  {
   "cell_type": "code",
   "execution_count": 1,
   "metadata": {},
   "outputs": [
    {
     "data": {
      "text/plain": [
       "[\n",
       "  Document {\n",
       "    pageContent: \u001b[32m\"测试txt文件\"\u001b[39m,\n",
       "    metadata: { source: \u001b[32m\"./data/1.txt\"\u001b[39m }\n",
       "  }\n",
       "]"
      ]
     },
     "execution_count": 1,
     "metadata": {},
     "output_type": "execute_result"
    }
   ],
   "source": [
    "import { TextLoader } from \"langchain/document_loaders/fs/text\";\n",
    "\n",
    "const loader = new TextLoader(\"./data/1.txt\");\n",
    "\n",
    "const docs = await loader.load();\n",
    "\n",
    "docs\n"
   ]
  },
  {
   "cell_type": "code",
   "execution_count": 2,
   "metadata": {},
   "outputs": [
    {
     "name": "stdout",
     "output_type": "stream",
     "text": [
      "Warning: TT: undefined function: 3\n"
     ]
    },
    {
     "data": {
      "text/plain": [
       "[\n",
       "  Document {\n",
       "    pageContent: \u001b[32m\" \\n\"\u001b[39m +\n",
       "      \u001b[32m\"徐阳阳 \\n\"\u001b[39m +\n",
       "      \u001b[32m\"1 8 7 7 0 2 0 3 6 7 2  | 4 9 5 5 4 1 7 1 1 @ q q . c o m \\n\"\u001b[39m +\n",
       "      \u001b[32m\"意向岗位 | 前端工 程 师 \\n\"\u001b[39m +\n",
       "      \u001b[32m\"教育经历 \\n\"\u001b[39m +\n",
       "      \u001b[32m\"东华理工大学  南昌         2021年09月 - 2 0 2 5年07月 \\n\"\u001b[39m +\n",
       "      \u001b[32m\"职责：班级干部                        专业： 软 件 工 程                学历： 本 科 （25届） 综测排名：前20% \\n\"\u001b[39m +\n",
       "      \u001b[32m\"获奖情况：三 等 奖 学 金、蓝 桥 杯 省 级 二 等 奖 、 鸿 蒙OS开 发 初 级 认 证 、 五 星 寝 室 长 、 校 优 秀 志 愿 者 、 校 运 会 文 体 积 极 分 子 。 \\n\"\u001b[39m +\n",
       "      \u001b[32m\"个人特长 \\n\"\u001b[39m +\n",
       "      \u001b[32m\"⚫ 熟悉 H T M L（5）、C S S（3）、Ja v aSc r i p t（ES6+）、Ty p eSc r i p t 等 前 端 开 发 技 术， 有 良 好 的 代 码 编 写 风 格。 \\n\"\u001b[39m +\n",
       "      \u001b[32m\"⚫ 熟悉 Vue（3）、R e a c t（18） 框架， 熟 练 使 用 Vu e x 、Pi n i a 做 状 态 管 理 ， 熟 练 使 用 Ax i o s 进 行 网 络 请 求 。 \\n\"\u001b[39m +\n",
       "      \u001b[32m\"⚫ 熟悉 前 端 工 程 化工具 W e b p a c k 、V i t e， 使 用 ESli n t 、P r e t t i e r 、H u s k y 等 工 具 保 证 代 码 质 量。 \\n\"\u001b[39m +\n",
       "      \u001b[32m\"⚫ 熟悉 Ant D e s i g n  、E l e m e n t   P l u s  、V a n t 、T a i l w i n d C S S 等 前 端 U I  框架。 \\n\"\u001b[39m +\n",
       "      \u001b[32m\"⚫ 熟悉 W e b 端 与 移 动 端 开 发 ， 有 H5 、微 信 小 程 序 、Uniapp 、 快 应 用开发经验。 \\n\"\u001b[39m +\n",
       "      \u001b[32m\"⚫ 了解 N o d e . j s 、J a v a 服 务 端 开 发 语 言 ，有 Ne s t. j s 框 架 开 发 经 验 ，有 D o c k e r 容器化 部 署 经 验。 \\n\"\u001b[39m +\n",
       "      \u001b[32m\"⚫ 了解 L L M，有 L a n g C h a i n  、D i f y   A I  应 用 开 发 经 验 ， 实 现聊天 B o t、 情 感 分 析 、 图 像 识 别 等 A I  应用。 \\n\"\u001b[39m +\n",
       "      \u001b[32m\"⚫ 了解 A I G C， 能 够 使 用 Co m f yUI 进复杂工 作 流 创 作，具备高 质 量 图 像 、 音 频 、 视 频 创 造 能 力。 \\n\"\u001b[39m +\n",
       "      \u001b[32m\"⚫ 熟悉 Git， 能 够 运 用 Gi t  来 管 理 代 码， 了 解 Gi t l a b C I / C D  工 作 流以 及 一 些 基 础 配 置。 \\n\"\u001b[39m +\n",
       "      \u001b[32m\"个人社交 \\n\"\u001b[39m +\n",
       "      \u001b[32m\"⚫ 个 人 博 客 ：h t t ps : / / y a n g y a n g u . g i t h u b . i o \\n\"\u001b[39m +\n",
       "      \u001b[32m\"⚫ 掘 金：h t t p s : / / j u e j i n . c n / u s e r / 4 3 0 3 9 1 5 4 5 1 1 6 7 9 7 7 / p o s t s—— 创 作 等 级 Lv.5 | 年 度 人 气 作 者 No . 2 0 \\n\"\u001b[39m +\n",
       "      \u001b[32m\"⚫ G i t H u b：h t t p s : / / g i t h u b . c o m / Y a n g y a n g U \\n\"\u001b[39m +\n",
       "      \u001b[32m\"⚫ 力 扣：h t t p s : / / l e e t c o d e . c n / u / a k W 3 Q d Y B g n—— 200+ 算 法 题 \\n\"\u001b[39m +\n",
       "      \u001b[32m\"实习经历 \\n\"\u001b[39m +\n",
       "      \u001b[32m\"北京小米移动软件有限公司 – 手机部/软件部/前端平台 – 前端实习生               2 0 24年5月 – 2024年10月 \\n\"\u001b[39m +\n",
       "      \u001b[32m\"⚫ 参与 T o B  端 AI 云 控 平 台 开 发 ， 负 责 项 目 初 期 页 面 搭 建 、 规 范 代 码 编 写 与 提 交 配 置 、 高 级 组 件 封 装 、 接 口 联 调 等 任 务 。 \\n\"\u001b[39m +\n",
       "      \u001b[32m\"⚫ 参与 T o C  端 表 盘 编 辑 器 维 护 ， 负 责 不 同 型 号 表 盘 的 数 据 源 维 护 、 B u g  修 复 ， 以 及 A I G C 功 能 的 开 发 。 \\n\"\u001b[39m +\n",
       "      \u001b[32m\"⚫ 自 主 调 研 C I / C D  工 作 流 ， 配 置 脚 本 实 现 版 本 更 新 时 的 提 示 功 能 ， 对 Y A M L  语 法 、 持 续 集 成 和 交 付 有 一 定 的 理 解 。 \\n\"\u001b[39m +\n",
       "      \u001b[32m\"⚫ 自 主 调 研 N e s t . j s  框 架 ， 具 备 一 定 的 全 栈 开 发 能 力 ， 能 够 独 立 完 成 从 页 面 搭 建 到 后 端 服 务 集 成 的 完 整 开 发 流 程 。 \\n\"\u001b[39m +\n",
       "      \u001b[32m\"⚫ 熟 练 使 用 D o c k e r  进 行 容 器 化 部 署 ， 能 够 快 速 配 置 环 境 ， 部 署 应 用 ， 并 维 护 高 效 稳 定 的 系 统 运 行 。 \\n\"\u001b[39m +\n",
       "      \u001b[32m\"⚫ 运用 C o m f y U I  结 合 快 手 的 生 图 大 模 型 K o l o r s， 进 行 工 作 流 开 发 ， 通 过 节 点 的 搭 配 组 合 以 实 现 高 质 量 图 片 生 成 。 \\n\"\u001b[39m +\n",
       "      \u001b[32m\"网易有道信息技术（北京）有限公司 – 有道事业群/人工智能产品部 – 前端实习生             2 0 24年10月 – 2025年1月 \\n\"\u001b[39m +\n",
       "      \u001b[32m\"⚫ 参与 ToC 端 Q A n y t h i n g 商 业 版前 端 页 面 开 发，修 复 产 品 早 期 的 关 键 B u g，通过 J i r a  完 成 任 务 跟 踪 与 管 理。 \\n\"\u001b[39m +\n",
       "      \u001b[32m\"⚫ 参与维护 Q A n y t h i n g  开源社区，G i t h u b  S t a r  数已经突破 12k，负 责 审 核 I s s u e s  与 PR，并在微 信 群提 供 技 术答疑。 \\n\"\u001b[39m +\n",
       "      \u001b[32m\"⚫ 实现在 线 预 览 O f f i c e  全 家 桶 、M a r k d o w n 等等文件，封 装 通 用型预览组件，根据 M I M E 自 动 匹 配所需展示的组件。 \\n\"\u001b[39m +\n",
       "      \u001b[32m\"⚫ 使用 L R U 算 法 对 预 览文件的 B a s e 6 4 数据以及解 析 后 的切片数 据 进 行 缓 存 ，避 免 重 复请求，优 化 用 户 体 验。 \\n\"\u001b[39m +\n",
       "      \u001b[32m\"⚫ 实 现 大 文 件 夹 分 批 上 传功能， 确 保 在 服 务 器 承 受 范 围 内 ， 采 用 队 列 确 保 有 序 上 传 ， 采 用 重 传 机 制 ，提 升 文 件 上 传 成 功 率。 \\n\"\u001b[39m +\n",
       "      \u001b[32m\"⚫ 封装通用型进度条组 件 ，以实现在文件上传时轮询获取实时进度，或者在文件列 表 页的展示文件的解析状态。 \\n\"\u001b[39m +\n",
       "      \u001b[32m\"项目经历 \\n\"\u001b[39m +\n",
       "      \u001b[32m\"超级管理系统                  2024年05月 - 2 0 2 4年06月 \\n\"\u001b[39m +\n",
       "      \u001b[32m\"⚫ 技 术 栈 ：R e a c t、T y p e S c r i p t、R e a c t   R o u t e r、R e d u x、A n t   D e s i g n、E C h a r t s、A x i o s、M o c k   j s、T h r e e . j s   \\n\"\u001b[39m +\n",
       "      \u001b[32m\"⚫ 项 目 介 绍 ： 自 主 开 发 的 超 级 管 理 系 统 ， 以 后 台 管 理 系 统 为 模 板 ， 结 合 个 人 兴 趣 添 加 了 一 系 列 功 能 ， 例 如 商 品 瀑 布 流 展 示 、3D \\n\"\u001b[39m +\n",
       "      \u001b[32m\"看 车 、 分 页 管 理 用 户 数 据 、A I  聊 天 等 ； 实 现 了 动 态 路 由 ， 并 封 装 了 左 侧 菜 单 、 表 单 、T a b  导 航 栏 、E c h a r t s  等 组 件 ； 同 时 开 \\n\"\u001b[39m +\n",
       "      \u001b[32m\"发 了 高 阶 组 件 A u t h  以 实 现 登 录 鉴 权 ； 全 局 使 用 M o c k  数 据 ， 支 持 拼 音 首 字 母 搜 索 ； 引 入 T h r e e . j s  实现3D看 车 ； 集 成 \\n\"\u001b[39m +\n",
       "      \u001b[32m\"O p e n A I   A P I  实现AI聊 天 ； 引 入 M a r k d o w n  编 辑 器 ； 使 用 R e d u x  进 行 全 局 状 态 管 理 ， 并 通 过 Lo c a l S t o r a g e  实 现 用 户 \\n\"\u001b[39m +\n",
       "      \u001b[32m\"T o k e n  和 菜 单 栏 的 持 久 化 存 储 。 \\n\"\u001b[39m +\n",
       "      \u001b[32m\"⚫ 项 目 地 址 ：h t t p : / / 4 7 . 9 6 . 2 9 . 1 9 5 : 2 2 2 2 / \\n\"\u001b[39m +\n",
       "      \u001b[32m\" \"\u001b[39m,\n",
       "    metadata: {\n",
       "      source: \u001b[32m\"1.pdf\"\u001b[39m,\n",
       "      pdf: {\n",
       "        version: \u001b[32m\"1.10.100\"\u001b[39m,\n",
       "        info: {\n",
       "          PDFFormatVersion: \u001b[32m\"1.7\"\u001b[39m,\n",
       "          IsAcroFormPresent: \u001b[33mfalse\u001b[39m,\n",
       "          IsXFAPresent: \u001b[33mfalse\u001b[39m,\n",
       "          Author: \u001b[32m\"49554\"\u001b[39m,\n",
       "          Creator: \u001b[32m\"Microsoft® Word 2016\"\u001b[39m,\n",
       "          Producer: \u001b[32m\"Microsoft® Word 2016\"\u001b[39m,\n",
       "          CreationDate: \u001b[32m\"D:20250115140531+08'00'\"\u001b[39m,\n",
       "          ModDate: \u001b[32m\"D:20250115140531+08'00'\"\u001b[39m\n",
       "        },\n",
       "        metadata: Metadata { _metadata: \u001b[36m[Object: null prototype]\u001b[39m },\n",
       "        totalPages: \u001b[33m1\u001b[39m\n",
       "      }\n",
       "    }\n",
       "  }\n",
       "]"
      ]
     },
     "execution_count": 2,
     "metadata": {},
     "output_type": "execute_result"
    }
   ],
   "source": [
    "import * as pdfParse from \"pdf-parse\";\n",
    "import { PDFLoader } from \"langchain/document_loaders/fs/pdf\";\n",
    "\n",
    "const loader2 = new PDFLoader(\"1.pdf\", { splitPages: false });\n",
    "const pdf = await loader2.load()\n",
    "\n",
    "pdf"
   ]
  }
 ],
 "metadata": {
  "kernelspec": {
   "display_name": "Deno",
   "language": "typescript",
   "name": "deno"
  },
  "language_info": {
   "codemirror_mode": "typescript",
   "file_extension": ".ts",
   "mimetype": "text/x.typescript",
   "name": "typescript",
   "nbconvert_exporter": "script",
   "pygments_lexer": "typescript",
   "version": "5.6.2"
  }
 },
 "nbformat": 4,
 "nbformat_minor": 2
}
