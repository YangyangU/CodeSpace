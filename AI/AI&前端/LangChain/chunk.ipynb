{
 "cells": [
  {
   "cell_type": "code",
   "execution_count": 4,
   "metadata": {},
   "outputs": [
    {
     "data": {
      "text/plain": [
       "\u001b[32m\"测试txt文件chunkOverlap 定义了，块和块之间重叠部分的大小，因为在自然语言中内容是连续性的，分块时一定的重叠可以让文本不会在奇怪的地方被切割，并让内容保留一定的上下文。较大的\"\u001b[39m"
      ]
     },
     "execution_count": 4,
     "metadata": {},
     "output_type": "execute_result"
    }
   ],
   "source": [
    "import { load } from \"dotenv\";\n",
    "import { OpenAIEmbeddings } from \"@langchain/openai\";\n",
    "import { TextLoader } from \"langchain/document_loaders/fs/text\";\n",
    "import { RecursiveCharacterTextSplitter } from \"langchain/text_splitter\";\n",
    "\n",
    "const env = await load();\n",
    "\n",
    "const process = {\n",
    "    env\n",
    "}\n",
    "\n",
    "const loader = new TextLoader(\"data/1.txt\");\n",
    "const docs = await loader.load();\n",
    "\n",
    "const splitter = new RecursiveCharacterTextSplitter({\n",
    "    chunkSize: 100,\n",
    "    chunkOverlap: 20,\n",
    "  });\n",
    "\n",
    "const splitDocs = await splitter.splitDocuments(docs);\n",
    "\n",
    "splitDocs[0].pageContent"
   ]
  },
  {
   "cell_type": "code",
   "execution_count": 5,
   "metadata": {},
   "outputs": [
    {
     "data": {
      "text/plain": [
       "OpenAIEmbeddings {\n",
       "  caller: AsyncCaller {\n",
       "    maxConcurrency: \u001b[33m2\u001b[39m,\n",
       "    maxRetries: \u001b[33m6\u001b[39m,\n",
       "    onFailedAttempt: \u001b[36m[Function: defaultFailedAttemptHandler]\u001b[39m,\n",
       "    queue: PQueue {\n",
       "      _events: Events <[Object: null prototype] {}> {},\n",
       "      _eventsCount: \u001b[33m0\u001b[39m,\n",
       "      _intervalCount: \u001b[33m0\u001b[39m,\n",
       "      _intervalEnd: \u001b[33m0\u001b[39m,\n",
       "      _pendingCount: \u001b[33m0\u001b[39m,\n",
       "      _resolveEmpty: \u001b[36m[Function: empty]\u001b[39m,\n",
       "      _resolveIdle: \u001b[36m[Function: empty]\u001b[39m,\n",
       "      _carryoverConcurrencyCount: \u001b[33mfalse\u001b[39m,\n",
       "      _isIntervalIgnored: \u001b[33mtrue\u001b[39m,\n",
       "      _intervalCap: \u001b[33mInfinity\u001b[39m,\n",
       "      _interval: \u001b[33m0\u001b[39m,\n",
       "      _queue: PriorityQueue { _queue: [] },\n",
       "      _queueClass: \u001b[36m[class PriorityQueue]\u001b[39m,\n",
       "      _concurrency: \u001b[33m2\u001b[39m,\n",
       "      _intervalId: \u001b[90mundefined\u001b[39m,\n",
       "      _timeout: \u001b[90mundefined\u001b[39m,\n",
       "      _throwOnTimeout: \u001b[33mfalse\u001b[39m,\n",
       "      _isPaused: \u001b[33mfalse\u001b[39m\n",
       "    }\n",
       "  },\n",
       "  modelName: \u001b[32m\"text-embedding-ada-002\"\u001b[39m,\n",
       "  batchSize: \u001b[33m512\u001b[39m,\n",
       "  stripNewLines: \u001b[33mtrue\u001b[39m,\n",
       "  dimensions: \u001b[90mundefined\u001b[39m,\n",
       "  timeout: \u001b[90mundefined\u001b[39m,\n",
       "  azureOpenAIApiVersion: \u001b[90mundefined\u001b[39m,\n",
       "  azureOpenAIApiKey: \u001b[90mundefined\u001b[39m,\n",
       "  azureOpenAIApiInstanceName: \u001b[90mundefined\u001b[39m,\n",
       "  azureOpenAIApiDeploymentName: \u001b[90mundefined\u001b[39m,\n",
       "  azureOpenAIBasePath: \u001b[90mundefined\u001b[39m,\n",
       "  organization: \u001b[90mundefined\u001b[39m,\n",
       "  client: \u001b[90mundefined\u001b[39m,\n",
       "  clientConfig: {\n",
       "    apiKey: \u001b[32m\"sk-0b02bc9ff59c4a07af38ca1fa1999577\"\u001b[39m,\n",
       "    organization: \u001b[90mundefined\u001b[39m,\n",
       "    baseURL: \u001b[90mundefined\u001b[39m,\n",
       "    dangerouslyAllowBrowser: \u001b[33mtrue\u001b[39m,\n",
       "    defaultHeaders: \u001b[90mundefined\u001b[39m,\n",
       "    defaultQuery: \u001b[90mundefined\u001b[39m\n",
       "  }\n",
       "}"
      ]
     },
     "execution_count": 5,
     "metadata": {},
     "output_type": "execute_result"
    }
   ],
   "source": [
    "const embeddings = new OpenAIEmbeddings()\n",
    "\n",
    "embeddings"
   ]
  },
  {
   "cell_type": "code",
   "execution_count": 6,
   "metadata": {},
   "outputs": [
    {
     "data": {
      "text/plain": [
       "\u001b[33mtrue\u001b[39m"
      ]
     },
     "execution_count": 6,
     "metadata": {},
     "output_type": "execute_result"
    }
   ],
   "source": [
    "// const res = await embeddings.embedQuery(splitDocs[0].pageContent)\n",
    "\n",
    "!!embeddings.embedQuery"
   ]
  }
 ],
 "metadata": {
  "kernelspec": {
   "display_name": "Deno",
   "language": "typescript",
   "name": "deno"
  },
  "language_info": {
   "codemirror_mode": "typescript",
   "file_extension": ".ts",
   "mimetype": "text/x.typescript",
   "name": "typescript",
   "nbconvert_exporter": "script",
   "pygments_lexer": "typescript",
   "version": "5.6.2"
  }
 },
 "nbformat": 4,
 "nbformat_minor": 2
}
