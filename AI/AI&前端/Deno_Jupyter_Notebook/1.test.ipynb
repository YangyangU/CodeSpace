{
 "cells": [
  {
   "cell_type": "code",
   "execution_count": 1,
   "metadata": {},
   "outputs": [],
   "source": [
    "const a = 10;"
   ]
  },
  {
   "cell_type": "code",
   "execution_count": 2,
   "metadata": {},
   "outputs": [
    {
     "data": {
      "text/plain": [
       "\u001b[33m10\u001b[39m"
      ]
     },
     "execution_count": 2,
     "metadata": {},
     "output_type": "execute_result"
    }
   ],
   "source": [
    "a"
   ]
  },
  {
   "cell_type": "code",
   "execution_count": 3,
   "metadata": {},
   "outputs": [
    {
     "data": {
      "text/plain": [
       "\u001b[32m\"QAnything (Question and Answer based on Anything) 是致力于支持任意格式文件或数据库的本地知识库问答系统，可断网安装使用。\\r\\n\"\u001b[39m +\n",
       "  \u001b[32m\"\\r\\n\"\u001b[39m +\n",
       "  \u001b[32m\"您的任何格式的本地文件都可以往里扔，即可获得准确、快速、靠谱的问答体验。\\r\\n\"\u001b[39m +\n",
       "  \u001b[32m\"\\r\\n\"\u001b[39m +\n",
       "  \u001b[32m\"目前已支持格式: PDF(pdf)，Word(docx)，PPT(pptx)，XLS(xlsx)，Markdown(md)，电子邮件(eml)，TXT(txt)，图片(jpg，jpeg，png)，CSV(csv)，网页链接(html)，更多格式，敬请期待...\\r\\n\"\u001b[39m +\n",
       "  \u001b[32m\"\\r\\n\"\u001b[39m +\n",
       "  \u001b[32m\"特点\\r\\n\"\u001b[39m +\n",
       "  \u001b[32m\"数据安全，支持全程拔网线安装使用。\\r\\n\"\u001b[39m +\n",
       "  \u001b[32m\"支持跨语种问答，中英文问答随意切换，无所谓文件是什么语种。\\r\\n\"\u001b[39m +\n",
       "  \u001b[32m\"支持海量数据问答，两阶段向量排序，解决了大规模数据检索退化的问题，数据越多，效果越好。\\r\\n\"\u001b[39m +\n",
       "  \u001b[32m\"高性能生产级系统，可直接部署企业应用。\\r\\n\"\u001b[39m +\n",
       "  \u001b[32m\"易用性，无需繁琐的配置，一键安装部署，拿来就用。\\r\\n\"\u001b[39m +\n",
       "  \u001b[32m\"支持选择多知识库问答。\"\u001b[39m"
      ]
     },
     "execution_count": 3,
     "metadata": {},
     "output_type": "execute_result"
    }
   ],
   "source": [
    "const txt = Deno.readTextFileSync(\"1.txt\");\n",
    "txt"
   ]
  },
  {
   "cell_type": "code",
   "execution_count": 4,
   "metadata": {},
   "outputs": [
    {
     "data": {
      "text/plain": [
       "[ [ \u001b[33m1\u001b[39m, \u001b[33m2\u001b[39m ], [ \u001b[33m3\u001b[39m, \u001b[33m4\u001b[39m ] ]"
      ]
     },
     "execution_count": 4,
     "metadata": {},
     "output_type": "execute_result"
    }
   ],
   "source": [
    "import _ from \"npm:lodash\";\n",
    "\n",
    "_.chunk([1, 2, 3, 4], 2)"
   ]
  },
  {
   "cell_type": "code",
   "execution_count": 5,
   "metadata": {},
   "outputs": [],
   "source": [
    "import _ from \"lodash\";"
   ]
  },
  {
   "cell_type": "code",
   "execution_count": 6,
   "metadata": {},
   "outputs": [
    {
     "data": {
      "text/plain": [
       "[ [ \u001b[33m1\u001b[39m, \u001b[33m2\u001b[39m ], [ \u001b[33m3\u001b[39m, \u001b[33m4\u001b[39m ] ]"
      ]
     },
     "execution_count": 6,
     "metadata": {},
     "output_type": "execute_result"
    }
   ],
   "source": [
    "_.chunk([1, 2, 3, 4], 2)"
   ]
  },
  {
   "cell_type": "code",
   "execution_count": null,
   "metadata": {},
   "outputs": [],
   "source": []
  }
 ],
 "metadata": {
  "kernelspec": {
   "display_name": "Deno",
   "language": "typescript",
   "name": "deno"
  },
  "language_info": {
   "codemirror_mode": "typescript",
   "file_extension": ".ts",
   "mimetype": "text/x.typescript",
   "name": "typescript",
   "nbconvert_exporter": "script",
   "pygments_lexer": "typescript",
   "version": "5.6.2"
  }
 },
 "nbformat": 4,
 "nbformat_minor": 4
}
